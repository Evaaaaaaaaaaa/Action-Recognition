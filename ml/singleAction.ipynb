{
 "cells": [
  {
   "cell_type": "markdown",
   "metadata": {},
   "source": [
    "# Get data into dictionary"
   ]
  },
  {
   "cell_type": "code",
   "execution_count": 1,
   "metadata": {},
   "outputs": [],
   "source": [
    "from sklearn import metrics"
   ]
  },
  {
   "cell_type": "code",
   "execution_count": 2,
   "metadata": {},
   "outputs": [],
   "source": [
    "import scipy.io\n",
    "import os\n",
    "import numpy as np\n",
    "path = 'groundTruthmat/'\n",
    "dataset = []\n",
    "files = os.listdir(path)\n",
    "data_dict = {}\n",
    "# devide four folds\n",
    "# s1: P03 – P15\n",
    "# s2: P16 – P28\n",
    "# s3: P29 – P41\n",
    "# s4: P42 – P54\n",
    "for file in files:\n",
    "    read = scipy.io.loadmat(path + file)\n",
    "    data_dict[file] = read['labseqid']"
   ]
  },
  {
   "cell_type": "code",
   "execution_count": 3,
   "metadata": {},
   "outputs": [],
   "source": [
    "def one_hot():\n",
    "# create frame_label for one hot encoding\n",
    "    frame_label = {}\n",
    "    for i in range(48):\n",
    "        frame_label[i] = 48*[0]\n",
    "        frame_label[i][i] = 1\n",
    "    return frame_label\n",
    "\n",
    "frame_label = one_hot()"
   ]
  },
  {
   "cell_type": "code",
   "execution_count": 4,
   "metadata": {},
   "outputs": [],
   "source": [
    "def get_input_x_y(data_dict, trainPortion):\n",
    "    new_dict = {}\n",
    "    train_y = []\n",
    "    for filename, frames in data_dict.items():\n",
    "        frameLen = len(frames)\n",
    "        \n",
    "        inputLen = round(frameLen*trainPortion)  \n",
    "        inputFrames = frames[:inputLen]\n",
    "        y = frames[inputLen-1]\n",
    "        for frame in frames[inputLen:]:\n",
    "#             print(frame, y)\n",
    "            if frame != y[0]:\n",
    "                y[0] = frame[0]\n",
    "                break\n",
    "        train_y.append(y)\n",
    "        new_dict[filename] = inputFrames\n",
    "    return new_dict, train_y"
   ]
  },
  {
   "cell_type": "code",
   "execution_count": 30,
   "metadata": {},
   "outputs": [],
   "source": [
    "def add_padding(data_dict):\n",
    "    maxLen = 0\n",
    "    count = 0\n",
    "    for frames in data_dict.values():\n",
    "        \n",
    "        if len(frames) > maxLen:\n",
    "            maxLen = len(frames)\n",
    "    for filename, frames in data_dict.items():\n",
    "        data_dict[filename] = (maxLen - len(frames)) * [0] + [i[0] for i in frames]\n",
    "    return data_dict, maxLen\n",
    "            "
   ]
  },
  {
   "cell_type": "code",
   "execution_count": 31,
   "metadata": {},
   "outputs": [],
   "source": [
    "def feature_encoding(input_dict):\n",
    "    for filename, frames in input_dict.items():\n",
    "        # get corresponding one-hot encode\n",
    "        new = []\n",
    "        for each in frames:\n",
    "            new.append(frame_label[each])\n",
    "        input_dict[filename] = new\n",
    "    return input_dict"
   ]
  },
  {
   "cell_type": "code",
   "execution_count": 32,
   "metadata": {
    "scrolled": false
   },
   "outputs": [],
   "source": [
    "def label_encoding(train_y):\n",
    "    encoded_y = []\n",
    "    for label in train_y:\n",
    "        new_label = frame_label[label[0]]\n",
    "        encoded_y.append(new_label)\n",
    "    return encoded_y"
   ]
  },
  {
   "cell_type": "markdown",
   "metadata": {},
   "source": [
    "# LSTM"
   ]
  },
  {
   "cell_type": "code",
   "execution_count": 1,
   "metadata": {},
   "outputs": [],
   "source": [
    "from keras.models import Sequential\n",
    "from keras.layers import Dense\n",
    "from keras.layers import LSTM\n",
    "from keras.layers import Dropout\n",
    "def lstm_model(frame_len):\n",
    "    clear_session() \n",
    "    model = Sequential()\n",
    "    model.add(LSTM(100, input_shape=(frame_len,48), return_sequences=False))\n",
    "    model.add(Dense(48, activation='tanh'))\n",
    "    model.compile(loss='mae', optimizer='adam', metrics=['accuracy'])\n",
    "    model.summary()\n",
    "    return model"
   ]
  },
  {
   "cell_type": "markdown",
   "metadata": {},
   "source": [
    "# 4-fold cross validation"
   ]
  },
  {
   "cell_type": "code",
   "execution_count": 41,
   "metadata": {
    "scrolled": true
   },
   "outputs": [],
   "source": [
    "def train_model(trainX, trainY, model):\n",
    "    model.fit(np.array(trainX), np.array(trainY), epochs = 10, batch_size = 256)\n",
    "    "
   ]
  },
  {
   "cell_type": "code",
   "execution_count": 35,
   "metadata": {
    "scrolled": true
   },
   "outputs": [],
   "source": [
    "def evaluation(testX, testY, model):\n",
    "    predictions = model.predict(testX)\n",
    "    results = []\n",
    "    count = 0\n",
    "    for i in range(len(predictions)):\n",
    "        result = np.array([0] * 48)\n",
    "        index = predictions[i].argmax(axis=-1)\n",
    "        result[index] = 1\n",
    "        pre = metrics.accuracy_score(result, testY[i])\n",
    "        if pre == 1:\n",
    "            count += 1\n",
    "    print(count/len(testY))\n",
    "    return (count/len(testY))"
   ]
  },
  {
   "cell_type": "code",
   "execution_count": 36,
   "metadata": {},
   "outputs": [],
   "source": [
    "import copy\n",
    "def cross_validation(input_dict, encoded_y, model):\n",
    "    file_count = 0\n",
    "    s1_x, s2_x, s3_x, s4_x = [], [], [], []\n",
    "    s1_y, s2_y, s3_y, s4_y = [], [], [], []\n",
    "    # s1: P03 – P15\n",
    "    # s2: P16 – P28\n",
    "    # s3: P29 – P41\n",
    "    # s4: P42 – P54\n",
    "    count = 0\n",
    "    for filename, frames in input_dict.items():\n",
    "        if int(filename[1:3]) <= 15:\n",
    "            s1_x.append(input_dict[filename])\n",
    "            s1_y.append(encoded_y[file_count])\n",
    "        elif 16 <= int(filename[1:3]) <= 28:\n",
    "            s2_x.append(input_dict[filename])\n",
    "            s2_y.append(encoded_y[file_count])\n",
    "        elif 29 <= int(filename[1:3]) <= 41:\n",
    "            s3_x.append(input_dict[filename])\n",
    "            s3_y.append(encoded_y[file_count])\n",
    "        elif 42 <= int(filename[1:3]) <= 54:\n",
    "            s4_x.append(input_dict[filename])\n",
    "            s4_y.append(encoded_y[file_count])\n",
    "        file_count += 1\n",
    "        \n",
    "    splits_x = [s1_x, s2_x, s3_x, s4_x]\n",
    "    splits_y = [s1_y, s2_y, s3_y, s4_y]\n",
    "    final_acc = 0\n",
    "    for i in range(4):\n",
    "        trainX = None\n",
    "        trainY = None\n",
    "        for x in range(4):\n",
    "            if splits_x[x] != splits_x[i]:\n",
    "                if trainX == None:\n",
    "                    trainX = copy.deepcopy(splits_x[x])\n",
    "                else:\n",
    "                    trainX += copy.deepcopy(splits_x[x])\n",
    "\n",
    "        for y in range(4):\n",
    "            if splits_y[y] != splits_y[i]:\n",
    "                if trainY == None:\n",
    "                    trainY = copy.deepcopy(splits_y[y])\n",
    "                else:\n",
    "                    trainY += copy.deepcopy(splits_y[y])\n",
    "        testX = splits_x[i]\n",
    "        testY = splits_y[i]\n",
    "        print(np.array(trainX).shape, np.array(trainY).shape, np.array(testX).shape,np.array(testY).shape)\n",
    "        train_model(trainX, trainY, model)\n",
    "        final_acc += evaluation(testX, testY, model)\n",
    "        \n",
    "    print(final_acc/4) \n",
    "    return (final_acc/4) "
   ]
  },
  {
   "cell_type": "code",
   "execution_count": 2,
   "metadata": {
    "scrolled": true
   },
   "outputs": [
    {
     "ename": "NameError",
     "evalue": "name 'get_input_x_y' is not defined",
     "output_type": "error",
     "traceback": [
      "\u001b[0;31m---------------------------------------------------------------------------\u001b[0m",
      "\u001b[0;31mNameError\u001b[0m                                 Traceback (most recent call last)",
      "\u001b[0;32m<ipython-input-2-0a11683cb38d>\u001b[0m in \u001b[0;36m<module>\u001b[0;34m\u001b[0m\n\u001b[1;32m      4\u001b[0m \u001b[0mresults\u001b[0m \u001b[0;34m=\u001b[0m \u001b[0;34m[\u001b[0m\u001b[0;34m]\u001b[0m\u001b[0;34m\u001b[0m\u001b[0;34m\u001b[0m\u001b[0m\n\u001b[1;32m      5\u001b[0m \u001b[0;32mfor\u001b[0m \u001b[0mproportion\u001b[0m \u001b[0;32min\u001b[0m \u001b[0minput_proportion\u001b[0m\u001b[0;34m:\u001b[0m\u001b[0;34m\u001b[0m\u001b[0;34m\u001b[0m\u001b[0m\n\u001b[0;32m----> 6\u001b[0;31m     \u001b[0minput_dict\u001b[0m\u001b[0;34m,\u001b[0m \u001b[0mtrain_y\u001b[0m \u001b[0;34m=\u001b[0m \u001b[0mget_input_x_y\u001b[0m\u001b[0;34m(\u001b[0m\u001b[0mdata_dict\u001b[0m\u001b[0;34m,\u001b[0m \u001b[0mproportion\u001b[0m\u001b[0;34m)\u001b[0m\u001b[0;34m\u001b[0m\u001b[0;34m\u001b[0m\u001b[0m\n\u001b[0m\u001b[1;32m      7\u001b[0m     \u001b[0minput_dict\u001b[0m\u001b[0;34m,\u001b[0m \u001b[0mframe_len\u001b[0m \u001b[0;34m=\u001b[0m \u001b[0madd_padding\u001b[0m\u001b[0;34m(\u001b[0m\u001b[0minput_dict\u001b[0m\u001b[0;34m)\u001b[0m\u001b[0;34m\u001b[0m\u001b[0;34m\u001b[0m\u001b[0m\n\u001b[1;32m      8\u001b[0m     \u001b[0minput_dict\u001b[0m \u001b[0;34m=\u001b[0m \u001b[0mfeature_encoding\u001b[0m\u001b[0;34m(\u001b[0m\u001b[0minput_dict\u001b[0m\u001b[0;34m)\u001b[0m\u001b[0;34m\u001b[0m\u001b[0;34m\u001b[0m\u001b[0m\n",
      "\u001b[0;31mNameError\u001b[0m: name 'get_input_x_y' is not defined"
     ]
    }
   ],
   "source": [
    "from keras.backend import clear_session\n",
    "input_proportion = [0.1, 0.2, 0.3, 0.4, 0.5, 0.6, 0.7, 0.8, 0.9]\n",
    "# input_proportion = [0.1, 0.2]\n",
    "results = []\n",
    "for proportion in input_proportion:\n",
    "    input_dict, train_y = get_input_x_y(data_dict, proportion)\n",
    "    input_dict, frame_len = add_padding(input_dict)\n",
    "    input_dict = feature_encoding(input_dict)\n",
    "    encoded_y = label_encoding(train_y)\n",
    "    model = lstm_model(frame_len)\n",
    "    result = cross_validation(input_dict, encoded_y, model)\n",
    "    results.append(result)\n",
    "    clear_session() "
   ]
  },
  {
   "cell_type": "code",
   "execution_count": 43,
   "metadata": {},
   "outputs": [
    {
     "data": {
      "text/plain": [
       "[0.9346375492427392,\n",
       " 0.9420017031118413,\n",
       " 0.6593585180819996,\n",
       " 0.7241083223368788,\n",
       " 0.7683955406846872,\n",
       " 0.7602085603136483,\n",
       " 0.7313101374006132,\n",
       " 0.7721406072919286,\n",
       " 0.8289806590800173]"
      ]
     },
     "execution_count": 43,
     "metadata": {},
     "output_type": "execute_result"
    }
   ],
   "source": [
    "results"
   ]
  },
  {
   "cell_type": "code",
   "execution_count": null,
   "metadata": {},
   "outputs": [],
   "source": [
    "import tf_models, datase                                                                                                                                                                                                                                                                                                                                                                                                                                                                                                                                                                                                                                                                                                                                                                                                                                                                                                                                                                                                                                                                                                                                                                                                                                                                                                                                                                                                                                                                                                                                                                                                                                                                                                                                                                                                                                                                                                                                                                                                                                                                                                                                                                                                                                                                                                                                                                                                                                                                                                                                                                                                                                                                                                                                                                                                                                                                                                                                                                                                                                                                                                                                                                                                                                                                                                                                                                                                                                                                                                                                                                                                                                                                                                                                                                                                                                                                                                                                                                                                                                                                                                                                                                                                                                                                                                                                                                                                                                                                                                                                                                                                                                                                                                                                                                                                                                                                                                                                                                                                                                                                                                                                                                                                                                                                                                                                                                                                                                                                                                                                                                                                                                                                                                                                                                                                                                                                                                                                                                                                                                                                                                                                                                                                                                                                                                                                                                                                                                                                                                                                                                                                                                                                                                                                                                                                                                                                                                                                                                                                                                                                                                                                                                                                                                                                                                                                                                                                                                                                                                                                                                                                                                                                                                                                                                                                                                                                                                                                                                                                                                                                                                                                                                                                                                                                                                                                                                                                                                                                                                                                                                                                                                                                                                                                                                                                                                                                                                                                                                                                                                                                                                                                                                                                                                                                                                                                                                                                                                                                                                                                                                                                                                                                                                                                                                                                                                                                                                                                                                                                                                                                                                                                                                                                                                                                                                                                                                                                                                                                                                                                                                                                                                                                                                                                                                                                                                                                                                                                                                                                                                                                                                                                                                                                                                                                                                                                                                                                                                                                                                                                                                                                                                                                                                                                                                                                                                                                                                                                                                                                                                                                                                                                                                                                                                                                                                                                                                                                                                                                                                                                                                                                                                                                                                                                                                                                                                                                                                                                                                                                                                                                                                                                                                                                                                                                                                                                                                                                                                                                                                                                                                                                                                                                                                                                                                                                                                                                                                                                                                                                                                                                                                                                                                                                                                                                                                                                                                                                                                                                                                                                                                                                                                                                                                                                                                                                                                                                                                                                                                                                                                                                                                                                                                                                                                                                                                                                                                                                                                                                                                                                                                                                                                                                                                                                                                                                                                                                                                                                                                                                                                                                                                                                                                                                                                                                                                                                                                                                                                                                                                                                                                                                                                                                                                                                                                                                                                                                                                                                                                                                                                                                                                                                                                                                                                                                                                                                                                                                                                                                                                                                                                                                                                                                                                                                                                                                                                                                                                                                                                                                                                                                                                                                                                                                                                                                                                                                                                                                                                                                                                                                                                                                                                                                                                                                                                                                                                                                                                                                                                                                                                                                                                                                                                                                                                                                                                                                                                                                                                                                                                                                                                                                                                                                                                                                                                                                                                                                                                                                                                                                                                                                                                                                                                                                                                                                                                                                                                                                                                                                                                                                                                                                                                                                                                                                                                                                                                                                                                                                                                                                                                                                                                                                                                                                                                                                                                                                                                                                                                                                                                                                                                                                                                                                                                                                                                                                                                                                                                                                                                                                                                                                                                                                                                                                                                                                                                                                                                                                                                                                                                                                                                                                                                                                                                                                                                                                                                                                                                                                                                                                                                                                                                                                                                                                                                                                                                                                                                                                                                                                                                                                                                                                                                                                                                                                                                                                                                                                                                                                                                                                                                                                                                                                                                                                                                                                                                                                                                                                                                                                                                                                                                                                                                                                                                                                                                                                                                                                                                                                                                                                                                                                                                                                                                                                                                                                                                                                                                                                                                                                                                                                                                                                                                                                                                                                                                                                                                                                                                                                                                                                                                                                                                                                                                                                                                                                                                                                                                                                                                                                                                                                                                                                                                                                                                                                                                                                                                                                                                                           \n",
    "ts, utils, metrics\n",
    "from utils import imshow_\n",
    "model, param_str = tf_models.temporal_convs_linear(n_nodes[0], conv, n_classes, n_feat, \n",
    "                                                    max_len, causal=causal, return_param_str=True)"
   ]
  },
  {
   "cell_type": "code",
   "execution_count": null,
   "metadata": {},
   "outputs": [],
   "source": []
  }
 ],
 "metadata": {
  "kernelspec": {
   "display_name": "Python 3",
   "language": "python",
   "name": "python3"
  },
  "language_info": {
   "codemirror_mode": {
    "name": "ipython",
    "version": 3
   },
   "file_extension": ".py",
   "mimetype": "text/x-python",
   "name": "python",
   "nbconvert_exporter": "python",
   "pygments_lexer": "ipython3",
   "version": "3.8.3"
  },
  "toc": {
   "base_numbering": 1,
   "nav_menu": {},
   "number_sections": true,
   "sideBar": true,
   "skip_h1_title": false,
   "title_cell": "Table of Contents",
   "title_sidebar": "Contents",
   "toc_cell": false,
   "toc_position": {},
   "toc_section_display": true,
   "toc_window_display": false
  }
 },
 "nbformat": 4,
 "nbformat_minor": 4
}
