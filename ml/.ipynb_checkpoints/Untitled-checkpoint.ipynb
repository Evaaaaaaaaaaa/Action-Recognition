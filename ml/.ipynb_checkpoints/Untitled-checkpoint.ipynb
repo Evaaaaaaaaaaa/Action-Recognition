{
 "cells": [
  {
   "cell_type": "markdown",
   "metadata": {},
   "source": [
    "# Get data into dictionary"
   ]
  },
  {
   "cell_type": "code",
   "execution_count": 1,
   "metadata": {},
   "outputs": [],
   "source": [
    "from sklearn import metrics"
   ]
  },
  {
   "cell_type": "code",
   "execution_count": 2,
   "metadata": {},
   "outputs": [],
   "source": [
    "import scipy.io\n",
    "import os\n",
    "import numpy as np\n",
    "path = 'groundTruthmat/'\n",
    "dataset = []\n",
    "files = os.listdir(path)\n",
    "data_dict = {}\n",
    "# devide four folds\n",
    "# s1: P03 – P15\n",
    "# s2: P16 – P28\n",
    "# s3: P29 – P41\n",
    "# s4: P42 – P54\n",
    "for file in files:\n",
    "    read = scipy.io.loadmat(path + file)\n",
    "    data_dict[file] = read['labseqid']"
   ]
  },
  {
   "cell_type": "code",
   "execution_count": 3,
   "metadata": {},
   "outputs": [],
   "source": [
    "def one_hot():\n",
    "# create frame_label for one hot encoding\n",
    "    frame_label = {}\n",
    "    for i in range(48):\n",
    "        frame_label[i] = 48*[0]\n",
    "        frame_label[i][i] = 1\n",
    "    return frame_label\n",
    "\n",
    "frame_label = one_hot()"
   ]
  },
  {
   "cell_type": "code",
   "execution_count": 4,
   "metadata": {},
   "outputs": [],
   "source": [
    "def get_input_x_y(data_dict, trainPortion):\n",
    "    new_dict = {}\n",
    "    train_y = []\n",
    "    for filename, frames in data_dict.items():\n",
    "        frameLen = len(frames)\n",
    "        \n",
    "        inputLen = round(frameLen*trainPortion)  \n",
    "        inputFrames = frames[:inputLen]\n",
    "        y = frames[inputLen-1]\n",
    "        for frame in frames[inputLen:]:\n",
    "#             print(frame, y)\n",
    "            if frame != y[0]:\n",
    "                y[0] = frame[0]\n",
    "                break\n",
    "        train_y.append(y)\n",
    "        new_dict[filename] = inputFrames\n",
    "    return new_dict, train_y"
   ]
  },
  {
   "cell_type": "code",
   "execution_count": 5,
   "metadata": {},
   "outputs": [],
   "source": [
    "def add_padding(data_dict):\n",
    "    maxLen = 0\n",
    "    count = 0\n",
    "    for frames in data_dict.values():\n",
    "        \n",
    "        if len(frames) > maxLen:\n",
    "            maxLen = len(frames)\n",
    "    for filename, frames in data_dict.items():\n",
    "        data_dict[filename] = (maxLen - len(frames)) * [0] + [i[0] for i in frames]\n",
    "    return data_dict\n",
    "            "
   ]
  },
  {
   "cell_type": "code",
   "execution_count": 6,
   "metadata": {},
   "outputs": [],
   "source": [
    "def feature_encoding(input_dict):\n",
    "    for filename, frames in input_dict.items():\n",
    "        # get corresponding one-hot encode\n",
    "        new = []\n",
    "        for each in frames:\n",
    "            new.append(frame_label[each])\n",
    "        input_dict[filename] = new\n",
    "    return input_dict"
   ]
  },
  {
   "cell_type": "code",
   "execution_count": 7,
   "metadata": {
    "scrolled": false
   },
   "outputs": [],
   "source": [
    "def label_encoding(train_y):\n",
    "    encoded_y = []\n",
    "    for label in train_y:\n",
    "        new_label = frame_label[label[0]]\n",
    "        encoded_y.append(new_label)\n",
    "    return encoded_y"
   ]
  },
  {
   "cell_type": "markdown",
   "metadata": {},
   "source": [
    "# LSTM"
   ]
  },
  {
   "cell_type": "code",
   "execution_count": 14,
   "metadata": {},
   "outputs": [],
   "source": [
    "from keras.models import Sequential\n",
    "from keras.layers import Dense\n",
    "from keras.layers import LSTM\n",
    "from keras.layers import Dropout\n",
    "def lstm_model():\n",
    "    clear_session() \n",
    "    model = Sequential()\n",
    "    model.add(LSTM(100, input_shape=(974,48),return_sequences=False))\n",
    "    model.add(Dense(48, activation='tanh'))\n",
    "    model.compile(loss='mae', optimizer='adam', metrics=['accuracy'])\n",
    "    model.summary()\n",
    "    return model"
   ]
  },
  {
   "cell_type": "markdown",
   "metadata": {},
   "source": [
    "# 4-fold cross validation"
   ]
  },
  {
   "cell_type": "code",
   "execution_count": 15,
   "metadata": {
    "scrolled": true
   },
   "outputs": [],
   "source": [
    "def train_model(trainX, trainY):\n",
    "    model.fit(np.array(trainX), np.array(trainY), epochs = 1, batch_size = 256)\n",
    "    "
   ]
  },
  {
   "cell_type": "code",
   "execution_count": 16,
   "metadata": {
    "scrolled": true
   },
   "outputs": [],
   "source": [
    "def evaluation(testX, testY):\n",
    "    predictions = model.predict(testX)\n",
    "    results = []\n",
    "    count = 0\n",
    "    for i in range(len(predictions)):\n",
    "        result = np.array([0] * 48)\n",
    "        index = predictions[i].argmax(axis=-1)\n",
    "        result[index] = 1\n",
    "        pre = metrics.accuracy_score(result, testY[i])\n",
    "        if pre == 1:\n",
    "            count += 1\n",
    "    print(count/len(testY))\n",
    "    return (count/len(testY))"
   ]
  },
  {
   "cell_type": "code",
   "execution_count": 17,
   "metadata": {},
   "outputs": [],
   "source": [
    "import copy\n",
    "def cross_validation(input_dict, encoded_y, model):\n",
    "    file_count = 0\n",
    "    s1_x, s2_x, s3_x, s4_x = [], [], [], []\n",
    "    s1_y, s2_y, s3_y, s4_y = [], [], [], []\n",
    "    # s1: P03 – P15\n",
    "    # s2: P16 – P28\n",
    "    # s3: P29 – P41\n",
    "    # s4: P42 – P54\n",
    "    count = 0\n",
    "    for filename, frames in input_dict.items():\n",
    "        if int(filename[1:3]) <= 15:\n",
    "            s1_x.append(input_dict[filename])\n",
    "            s1_y.append(encoded_y[file_count])\n",
    "        elif 16 <= int(filename[1:3]) <= 28:\n",
    "            s2_x.append(input_dict[filename])\n",
    "            s2_y.append(encoded_y[file_count])\n",
    "        elif 29 <= int(filename[1:3]) <= 41:\n",
    "            s3_x.append(input_dict[filename])\n",
    "            s3_y.append(encoded_y[file_count])\n",
    "        elif 42 <= int(filename[1:3]) <= 54:\n",
    "            s4_x.append(input_dict[filename])\n",
    "            s4_y.append(encoded_y[file_count])\n",
    "        file_count += 1\n",
    "        \n",
    "    splits_x = [s1_x, s2_x, s3_x, s4_x]\n",
    "    splits_y = [s1_y, s2_y, s3_y, s4_y]\n",
    "    final_acc = 0\n",
    "    for i in range(4):\n",
    "        trainX = None\n",
    "        trainY = None\n",
    "        for x in range(4):\n",
    "            if splits_x[x] != splits_x[i]:\n",
    "                if trainX == None:\n",
    "                    trainX = copy.deepcopy(splits_x[x])\n",
    "                else:\n",
    "                    trainX += copy.deepcopy(splits_x[x])\n",
    "\n",
    "        for y in range(4):\n",
    "            if splits_y[y] != splits_y[i]:\n",
    "                if trainY == None:\n",
    "                    trainY = copy.deepcopy(splits_y[y])\n",
    "                else:\n",
    "                    trainY += copy.deepcopy(splits_y[y])\n",
    "        testX = splits_x[i]\n",
    "        testY = splits_y[i]\n",
    "        print(np.array(trainX).shape, np.array(trainY).shape, np.array(testX).shape,np.array(testY).shape)\n",
    "        train_model(trainX, trainY)\n",
    "        final_acc += evaluation(testX, testY)\n",
    "        \n",
    "    print(final_acc/4) \n",
    "    return (final_acc/4) "
   ]
  },
  {
   "cell_type": "code",
   "execution_count": 18,
   "metadata": {
    "scrolled": true
   },
   "outputs": [
    {
     "name": "stdout",
     "output_type": "stream",
     "text": [
      "(1460, 974, 48) (1460, 48) (252, 974, 48) (252, 48)\n",
      "Model: \"sequential\"\n",
      "_________________________________________________________________\n",
      "Layer (type)                 Output Shape              Param #   \n",
      "=================================================================\n",
      "lstm (LSTM)                  (None, 100)               59600     \n",
      "_________________________________________________________________\n",
      "dense (Dense)                (None, 48)                4848      \n",
      "=================================================================\n",
      "Total params: 64,448\n",
      "Trainable params: 64,448\n",
      "Non-trainable params: 0\n",
      "_________________________________________________________________\n",
      "6/6 [==============================] - 6s 1s/step - loss: 0.0699 - accuracy: 0.1205\n"
     ]
    },
    {
     "ename": "NameError",
     "evalue": "name 'model' is not defined",
     "output_type": "error",
     "traceback": [
      "\u001b[0;31m---------------------------------------------------------------------------\u001b[0m",
      "\u001b[0;31mNameError\u001b[0m                                 Traceback (most recent call last)",
      "\u001b[0;32m<ipython-input-18-513c4b37d27d>\u001b[0m in \u001b[0;36m<module>\u001b[0;34m\u001b[0m\n\u001b[1;32m      8\u001b[0m     \u001b[0minput_dict\u001b[0m \u001b[0;34m=\u001b[0m \u001b[0mfeature_encoding\u001b[0m\u001b[0;34m(\u001b[0m\u001b[0minput_dict\u001b[0m\u001b[0;34m)\u001b[0m\u001b[0;34m\u001b[0m\u001b[0;34m\u001b[0m\u001b[0m\n\u001b[1;32m      9\u001b[0m     \u001b[0mencoded_y\u001b[0m \u001b[0;34m=\u001b[0m \u001b[0mlabel_encoding\u001b[0m\u001b[0;34m(\u001b[0m\u001b[0mtrain_y\u001b[0m\u001b[0;34m)\u001b[0m\u001b[0;34m\u001b[0m\u001b[0;34m\u001b[0m\u001b[0m\n\u001b[0;32m---> 10\u001b[0;31m     \u001b[0mresult\u001b[0m \u001b[0;34m=\u001b[0m \u001b[0mcross_validation\u001b[0m\u001b[0;34m(\u001b[0m\u001b[0minput_dict\u001b[0m\u001b[0;34m,\u001b[0m \u001b[0mencoded_y\u001b[0m\u001b[0;34m)\u001b[0m\u001b[0;34m\u001b[0m\u001b[0;34m\u001b[0m\u001b[0m\n\u001b[0m\u001b[1;32m     11\u001b[0m     \u001b[0mresults\u001b[0m\u001b[0;34m.\u001b[0m\u001b[0mappend\u001b[0m\u001b[0;34m(\u001b[0m\u001b[0mresult\u001b[0m\u001b[0;34m)\u001b[0m\u001b[0;34m\u001b[0m\u001b[0;34m\u001b[0m\u001b[0m\n\u001b[1;32m     12\u001b[0m     \u001b[0mclear_session\u001b[0m\u001b[0;34m(\u001b[0m\u001b[0;34m)\u001b[0m\u001b[0;34m\u001b[0m\u001b[0;34m\u001b[0m\u001b[0m\n",
      "\u001b[0;32m<ipython-input-17-b8a166490220>\u001b[0m in \u001b[0;36mcross_validation\u001b[0;34m(input_dict, encoded_y)\u001b[0m\n\u001b[1;32m     47\u001b[0m         \u001b[0mprint\u001b[0m\u001b[0;34m(\u001b[0m\u001b[0mnp\u001b[0m\u001b[0;34m.\u001b[0m\u001b[0marray\u001b[0m\u001b[0;34m(\u001b[0m\u001b[0mtrainX\u001b[0m\u001b[0;34m)\u001b[0m\u001b[0;34m.\u001b[0m\u001b[0mshape\u001b[0m\u001b[0;34m,\u001b[0m \u001b[0mnp\u001b[0m\u001b[0;34m.\u001b[0m\u001b[0marray\u001b[0m\u001b[0;34m(\u001b[0m\u001b[0mtrainY\u001b[0m\u001b[0;34m)\u001b[0m\u001b[0;34m.\u001b[0m\u001b[0mshape\u001b[0m\u001b[0;34m,\u001b[0m \u001b[0mnp\u001b[0m\u001b[0;34m.\u001b[0m\u001b[0marray\u001b[0m\u001b[0;34m(\u001b[0m\u001b[0mtestX\u001b[0m\u001b[0;34m)\u001b[0m\u001b[0;34m.\u001b[0m\u001b[0mshape\u001b[0m\u001b[0;34m,\u001b[0m\u001b[0mnp\u001b[0m\u001b[0;34m.\u001b[0m\u001b[0marray\u001b[0m\u001b[0;34m(\u001b[0m\u001b[0mtestY\u001b[0m\u001b[0;34m)\u001b[0m\u001b[0;34m.\u001b[0m\u001b[0mshape\u001b[0m\u001b[0;34m)\u001b[0m\u001b[0;34m\u001b[0m\u001b[0;34m\u001b[0m\u001b[0m\n\u001b[1;32m     48\u001b[0m         \u001b[0mtrain_model\u001b[0m\u001b[0;34m(\u001b[0m\u001b[0mtrainX\u001b[0m\u001b[0;34m,\u001b[0m \u001b[0mtrainY\u001b[0m\u001b[0;34m)\u001b[0m\u001b[0;34m\u001b[0m\u001b[0;34m\u001b[0m\u001b[0m\n\u001b[0;32m---> 49\u001b[0;31m         \u001b[0mfinal_acc\u001b[0m \u001b[0;34m+=\u001b[0m \u001b[0mevaluation\u001b[0m\u001b[0;34m(\u001b[0m\u001b[0mtestX\u001b[0m\u001b[0;34m,\u001b[0m \u001b[0mtestY\u001b[0m\u001b[0;34m)\u001b[0m\u001b[0;34m\u001b[0m\u001b[0;34m\u001b[0m\u001b[0m\n\u001b[0m\u001b[1;32m     50\u001b[0m \u001b[0;34m\u001b[0m\u001b[0m\n\u001b[1;32m     51\u001b[0m     \u001b[0mprint\u001b[0m\u001b[0;34m(\u001b[0m\u001b[0mfinal_acc\u001b[0m\u001b[0;34m/\u001b[0m\u001b[0;36m4\u001b[0m\u001b[0;34m)\u001b[0m\u001b[0;34m\u001b[0m\u001b[0;34m\u001b[0m\u001b[0m\n",
      "\u001b[0;32m<ipython-input-16-beae975bf7b1>\u001b[0m in \u001b[0;36mevaluation\u001b[0;34m(testX, testY)\u001b[0m\n\u001b[1;32m      1\u001b[0m \u001b[0;32mdef\u001b[0m \u001b[0mevaluation\u001b[0m\u001b[0;34m(\u001b[0m\u001b[0mtestX\u001b[0m\u001b[0;34m,\u001b[0m \u001b[0mtestY\u001b[0m\u001b[0;34m)\u001b[0m\u001b[0;34m:\u001b[0m\u001b[0;34m\u001b[0m\u001b[0;34m\u001b[0m\u001b[0m\n\u001b[0;32m----> 2\u001b[0;31m     \u001b[0mpredictions\u001b[0m \u001b[0;34m=\u001b[0m \u001b[0mmodel\u001b[0m\u001b[0;34m.\u001b[0m\u001b[0mpredict\u001b[0m\u001b[0;34m(\u001b[0m\u001b[0mtestX\u001b[0m\u001b[0;34m)\u001b[0m\u001b[0;34m\u001b[0m\u001b[0;34m\u001b[0m\u001b[0m\n\u001b[0m\u001b[1;32m      3\u001b[0m     \u001b[0mresults\u001b[0m \u001b[0;34m=\u001b[0m \u001b[0;34m[\u001b[0m\u001b[0;34m]\u001b[0m\u001b[0;34m\u001b[0m\u001b[0;34m\u001b[0m\u001b[0m\n\u001b[1;32m      4\u001b[0m     \u001b[0mcount\u001b[0m \u001b[0;34m=\u001b[0m \u001b[0;36m0\u001b[0m\u001b[0;34m\u001b[0m\u001b[0;34m\u001b[0m\u001b[0m\n\u001b[1;32m      5\u001b[0m     \u001b[0;32mfor\u001b[0m \u001b[0mi\u001b[0m \u001b[0;32min\u001b[0m \u001b[0mrange\u001b[0m\u001b[0;34m(\u001b[0m\u001b[0mlen\u001b[0m\u001b[0;34m(\u001b[0m\u001b[0mpredictions\u001b[0m\u001b[0;34m)\u001b[0m\u001b[0;34m)\u001b[0m\u001b[0;34m:\u001b[0m\u001b[0;34m\u001b[0m\u001b[0;34m\u001b[0m\u001b[0m\n",
      "\u001b[0;31mNameError\u001b[0m: name 'model' is not defined"
     ]
    }
   ],
   "source": [
    "from keras.backend import clear_session\n",
    "# input_proportion = [0.1, 0.2, 0.3, 0.4, 0.5, 0.6, 0.7, 0.8, 0.9]\n",
    "input_proportion = [0.1, 0.2]\n",
    "results = []\n",
    "for proportion in input_proportion:\n",
    "    input_dict, train_y = get_input_x_y(data_dict, proportion)\n",
    "    input_dict = add_padding(input_dict)\n",
    "    input_dict = feature_encoding(input_dict)\n",
    "    encoded_y = label_encoding(train_y)\n",
    "    model = lstm_model()\n",
    "    result = cross_validation(input_dict, encoded_y, model)\n",
    "    results.append(result)\n",
    "    clear_session() "
   ]
  },
  {
   "cell_type": "code",
   "execution_count": null,
   "metadata": {},
   "outputs": [],
   "source": [
    "import tf_models, datase                                                                                                                                                                                                                                                                                                                                                                                                                                                                                                                                                                                                                                                                                                                                                                                                                                                                                                                                                                                                                                                                                                                                                                                                                                                                                                                                                                                                                                                                                                                                                                                                                                                                                                                                                                                                                                                                                                                                                                                                                                                                                                                                                                                                                                                                                                                                                                                                                                                                                                                                                                                                                                                                                                                                                                                                                                                                                                                                                                                                                                                                                                                                                                                                                                                                                                                                                                                                                                                                                                                                                                                                                                                                                                                                                                                                                                                                                                                                                                                                                                                                                                                                                                                                                                                                                                                                                                                                                                                                                                                                                                                                                                                                                                                                                                                                                                                                                                                                                                                                                                                                                                                                                                                                                                                                                                                                                                                                                                                                                                                                                                                                                                                                                                                                                                                                                                                                                                                                                                                                                                                                                                                                                                                                                                                                                                                                                                                                                                                                                                                                                                                                                                                                                                                                                                                                                                                                                                                                                                                                                                                                                                                                                                                                                                                                                                                                                                                                                                                                                                                                                                                                                                                                                                                                                                                                                                                                                                                                                                                                                                                                                                                                                                                                                                                                                                                                                                                                                                                                                                                                                                                                                                                                                                                                                                                                                                                                                                                                                                                                                                                                                                                                                                                                                                                                                                                                                                                                                                                                                                                                                                                                                                                                                                                                                                                                                                                                                                                                                                                                                                                                                                                                                                                                                                                                                                                                                                                                                                                                                                                                                                                                                                                                                                                                                                                                                                                                                                                                                                                                                                                                                                                                                                                                                                                                                                                                                                                                                                                                                                                                                                                                                                                                                                                                                                                                                                                                                                                                                                                                                                                                                                                                                                                                                                                                                                                                                                                                                                                                                                                                                                                                                                                                                                                                                                                                                                                                                                                                                                                                                                                                                                                                                                                                                                                                                                                                                                                                                                                                                                                                                                                                                                                                                                                                                                                                                                                                                                                                                                                                                                                                                                                                                                                                                                                                                                                                                                                                                                                                                                                                                                                                                                                                                                                                                                                                                                                                                                                                                                                                                                                                                                                                                                                                                                                                                                                                                                                                                                                                                                                                                                                                                                                                                                                                                                                                                                                                                                                                                                                                                                                                                                                                                                                                                                                                                                                                                                                                                                                                                                                                                                                                                                                                                                                                                                                                                                                                                                                                                                                                                                                                                                                                                                                                                                                                                                                                                                                                                                                                                                                                                                                                                                                                                                                                                                                                                                                                                                                                                                                                                                                                                                                                                                                                                                                                                                                                                                                                                                                                                                                                                                                                                                                                                                                                                                                                                                                                                                                                                                                                                                                                                                                                                                                                                                                                                                                                                                                                                                                                                                                                                                                                                                                                                                                                                                                                                                                                                                                                                                                                                                                                                                                                                                                                                                                                                                                                                                                                                                                                                                                                                                                                                                                                                                                                                                                                                                                                                                                                                                                                                                                                                                                                                                                                                                                                                                                                                                                                                                                                                                                                                                                                                                                                                                                                                                                                                                                                                                                                                                                                                                                                                                                                                                                                                                                                                                                                                                                                                                                                                                                                                                                                                                                                                                                                                                                                                                                                                                                                                                                                                                                                                                                                                                                                                                                                                                                                                                                                                                                                                                                                                                                                                                                                                                                                                                                                                                                                                                                                                                                                                                                                                                                                                                                                                                                                                                                                                                                                                                                                                                                                                                                                                                                                                                                                                                                                                                                                                                                                                                                                                                                                                                                                                                                                                                                                                                                                                                                                                                                                                                                                                                                                                                                                                                                                                                                                                                                                                                                                                                                                                                                                                                                                                                                                                                                                                                                                                                                                                                                                                                                                                                                                                                                                                                                                                                                                                                                                                                                           \n",
    "ts, utils, metrics\n",
    "from utils import imshow_\n",
    "model, param_str = tf_models.temporal_convs_linear(n_nodes[0], conv, n_classes, n_feat, \n",
    "                                                    max_len, causal=causal, return_param_str=True)"
   ]
  },
  {
   "cell_type": "code",
   "execution_count": null,
   "metadata": {},
   "outputs": [],
   "source": []
  }
 ],
 "metadata": {
  "kernelspec": {
   "display_name": "Python 3",
   "language": "python",
   "name": "python3"
  },
  "language_info": {
   "codemirror_mode": {
    "name": "ipython",
    "version": 3
   },
   "file_extension": ".py",
   "mimetype": "text/x-python",
   "name": "python",
   "nbconvert_exporter": "python",
   "pygments_lexer": "ipython3",
   "version": "3.8.3"
  },
  "toc": {
   "base_numbering": 1,
   "nav_menu": {},
   "number_sections": true,
   "sideBar": true,
   "skip_h1_title": false,
   "title_cell": "Table of Contents",
   "title_sidebar": "Contents",
   "toc_cell": false,
   "toc_position": {},
   "toc_section_display": true,
   "toc_window_display": false
  }
 },
 "nbformat": 4,
 "nbformat_minor": 4
}
